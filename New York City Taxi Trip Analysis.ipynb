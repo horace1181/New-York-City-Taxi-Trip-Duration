{
 "cells": [
  {
   "cell_type": "markdown",
   "metadata": {
    "jupyter": {
     "outputs_hidden": true
    }
   },
   "source": [
    "# Module 11: Machine Learning using SparkML\n",
    "\n",
    "Artificial Intelligence and Machine Learning have made a comeback in the last few years due to the ubiquity of inexpensive, fast computational platforms and advancements in algorithm designs.\n",
    "\n",
    "In this session, we will discuss the usage of Apache Spark in executing distributed parallel machine learning processes to achieve artificial intelligence.\n",
    "\n",
    "- https://spark.apache.org/docs/latest/ml-guide.html\n",
    "\n",
    "In this notebook, we will take on the [New York City Taxi Trip Duration](https://www.kaggle.com/c/nyc-taxi-trip-duration/code?competitionId=6960)  Kaggle competition.\n",
    "\n",
    "Make sure to review the setup instructions on Module11.pdf."
   ]
  },
  {
   "cell_type": "code",
   "execution_count": 1,
   "metadata": {},
   "outputs": [],
   "source": [
    "%matplotlib inline"
   ]
  },
  {
   "cell_type": "code",
   "execution_count": 2,
   "metadata": {},
   "outputs": [],
   "source": [
    "from pathlib import Path\n",
    "\n",
    "import math\n",
    "import numpy as np\n",
    "import pandas as pd\n",
    "\n",
    "import matplotlib.pyplot as plt\n",
    "\n",
    "from pyspark.sql import SparkSession\n",
    "from pyspark.ml.feature import VectorAssembler\n",
    "\n",
    "import pyspark.sql.functions as F\n",
    "from pyspark.sql.functions import pandas_udf, col, lit, hour, count\n",
    "from pyspark.sql.types import DoubleType"
   ]
  },
  {
   "cell_type": "code",
   "execution_count": 3,
   "metadata": {},
   "outputs": [],
   "source": [
    "plt.style.use('dark_background')"
   ]
  },
  {
   "cell_type": "markdown",
   "metadata": {},
   "source": [
    "### Create a spark instance."
   ]
  },
  {
   "cell_type": "code",
   "execution_count": 4,
   "metadata": {},
   "outputs": [],
   "source": [
    "mkl_installed = True\n",
    "\n",
    "if mkl_installed:\n",
    "    extraJavaOptions = \" \".join([\n",
    "        \"-Dcom.github.fommil.netlib.BLAS=com.intel.mkl.MKLBLAS\",\n",
    "        \"-Dcom.github.fommil.netlib.LAPACK=com.intel.mkl.MKLLAPACK\"\n",
    "    ])\n",
    "    extraClassPath = \"/opt/intel/mkl/wrapper/mkl_wrapper.jar\"\n",
    "else:\n",
    "    extraJavaOptions=\"\"\n",
    "    extraClassPath=\"\""
   ]
  },
  {
   "cell_type": "code",
   "execution_count": 5,
   "metadata": {},
   "outputs": [
    {
     "name": "stderr",
     "output_type": "stream",
     "text": [
      "WARNING: An illegal reflective access operation has occurred\n",
      "WARNING: Illegal reflective access by org.apache.spark.unsafe.Platform (file:/usr/local/spark-3.1.2-bin-hadoop3.2/jars/spark-unsafe_2.12-3.1.2.jar) to constructor java.nio.DirectByteBuffer(long,int)\n",
      "WARNING: Please consider reporting this to the maintainers of org.apache.spark.unsafe.Platform\n",
      "WARNING: Use --illegal-access=warn to enable warnings of further illegal reflective access operations\n",
      "WARNING: All illegal access operations will be denied in a future release\n",
      "24/11/16 08:22:28 WARN NativeCodeLoader: Unable to load native-hadoop library for your platform... using builtin-java classes where applicable\n",
      "Using Spark's default log4j profile: org/apache/spark/log4j-defaults.properties\n",
      "Setting default log level to \"WARN\".\n",
      "To adjust logging level use sc.setLogLevel(newLevel). For SparkR, use setLogLevel(newLevel).\n"
     ]
    }
   ],
   "source": [
    "spark = SparkSession\\\n",
    "    .builder\\\n",
    "    .master(\"local[*]\")\\\n",
    "    .config(\"spark.driver.memory\",\"31G\")\\\n",
    "    .config(\"spark.executor.memory\",\"31G\")\\\n",
    "    .config(\"spark.ui.enabled\",False)\\\n",
    "    .config(\"spark.sql.catalogImplementation\",\"in-memory\")\\\n",
    "    .config(\"spark.serializer\",\"org.apache.spark.serializer.KryoSerializer\")\\\n",
    "    .config(\"spark.driver.extraJavaOptions\",f\"{extraJavaOptions}\")\\\n",
    "    .config(\"spark.driver.extraClassPath\",f\"{extraClassPath}\")\\\n",
    "    .config(\"spark.executor.extraJavaOptions\",f\"{extraJavaOptions}\")\\\n",
    "    .config(\"spark.executor.extraClassPath\",f\"{extraClassPath}\")\\\n",
    "    .config(\"spark.executor.MKL_VERBOSE\",1)\\\n",
    "    .getOrCreate()"
   ]
  },
  {
   "cell_type": "markdown",
   "metadata": {},
   "source": [
    "### Explicit schema definition that can be composed from the first line of train.csv file.\n",
    "\n",
    "Note the backtick (`) before and after the name, just in the case the name in the head has a space in it. the backtick will encapsulate it :-)"
   ]
  },
  {
   "cell_type": "code",
   "execution_count": 6,
   "metadata": {},
   "outputs": [],
   "source": [
    "schema = \",\".join([\n",
    "\"`id` string\",\n",
    "\"`vendor_id` string\",\n",
    "\"`pickup_datetime` timestamp\",\n",
    "\"`dropoff_datetime` timestamp\",\n",
    "\"`passenger_count` integer\",\n",
    "\"`pickup_longitude` double\",\n",
    "\"`pickup_latitude` double\",\n",
    "\"`dropoff_longitude` double\",\n",
    "\"`dropoff_latitude` double\",\n",
    "\"`store_and_fwd_flag` string\",\n",
    "\"`trip_duration` integer\" # seconds\n",
    "])"
   ]
  },
  {
   "cell_type": "markdown",
   "metadata": {},
   "source": [
    "### Read CSV data and rename and drop some columns"
   ]
  },
  {
   "cell_type": "code",
   "execution_count": 7,
   "metadata": {},
   "outputs": [],
   "source": [
    "csv_path = \"train.csv\"\n",
    "\n",
    "trips = spark\\\n",
    "    .read\\\n",
    "    .csv(csv_path, schema=schema, sep=\",\", mode=\"DROPMALFORMED\")\\\n",
    "    .withColumnRenamed(\"pickup_datetime\", \"p_date\")\\\n",
    "    .withColumnRenamed(\"pickup_longitude\", \"p_lon\")\\\n",
    "    .withColumnRenamed(\"pickup_latitude\", \"p_lat\")\\\n",
    "    .withColumnRenamed(\"dropoff_datetime\", \"d_date\")\\\n",
    "    .withColumnRenamed(\"dropoff_longitude\", \"d_lon\")\\\n",
    "    .withColumnRenamed(\"dropoff_latitude\", \"d_lat\")\\\n",
    "    .withColumnRenamed(\"trip_duration\", \"duration\")\\\n",
    "    .drop(\"id\")\\\n",
    "    .drop(\"vendor_id\")\\\n",
    "    .drop(\"passenger_count\")\\\n",
    "    .drop(\"store_and_fwd_flag\")\n",
    "\n",
    "trips.createOrReplaceTempView(\"trips\")"
   ]
  },
  {
   "cell_type": "markdown",
   "metadata": {},
   "source": [
    "### Define spatial extent and filter data about Manhattan, JFK and Laguardia.\n",
    "\n",
    "Note: You can use a tool like [this](https://davidspriggs.github.io/js-extent-helper/extentHelper) to help you find the extent :-)\n",
    "\n",
    "![](./Map.png)"
   ]
  },
  {
   "cell_type": "code",
   "execution_count": 8,
   "metadata": {},
   "outputs": [],
   "source": [
    "xmin,ymin,xmax,ymax = [-74.04226680414989,40.6059735081628,-73.5061146385722,40.91340235669589]"
   ]
  },
  {
   "cell_type": "markdown",
   "metadata": {},
   "source": [
    "### Define a where clause to apply and filter the data."
   ]
  },
  {
   "cell_type": "code",
   "execution_count": 9,
   "metadata": {},
   "outputs": [],
   "source": [
    "where = \" and \".join([\n",
    "    f\"p_lon between {xmin} and {xmax}\",\n",
    "    f\"p_lat between {ymin} and {ymax}\",\n",
    "    f\"d_lon between {xmin} and {xmax}\",\n",
    "    f\"d_lat between {ymin} and {ymax}\"    \n",
    "])\n",
    "\n",
    "df = trips.where(where).cache()"
   ]
  },
  {
   "cell_type": "markdown",
   "metadata": {},
   "source": [
    "### Let's look at the pickup and dropoff hour distribution.\n",
    "\n",
    "As we believe hour of day is an important factor in duration calculation.\n",
    "\n",
    "Note the `toPandas()` at the end to bring the data back to the driver/notebook server in such that we can plot the result."
   ]
  },
  {
   "cell_type": "code",
   "execution_count": 10,
   "metadata": {},
   "outputs": [
    {
     "name": "stderr",
     "output_type": "stream",
     "text": [
      "                                                                                \r"
     ]
    }
   ],
   "source": [
    "data = df\\\n",
    "    .select(hour(col(\"p_date\")).alias(\"hh\"))\\\n",
    "    .groupBy(\"hh\")\\\n",
    "    .agg(count(\"hh\").alias(\"counts\"))\\\n",
    "    .orderBy(\"hh\")\\\n",
    "    .toPandas()"
   ]
  },
  {
   "cell_type": "code",
   "execution_count": 11,
   "metadata": {},
   "outputs": [
    {
     "data": {
      "image/png": "[encoded data removed]",
      "text/plain": [
       "<Figure size 1500x500 with 1 Axes>"
      ]
     },
     "metadata": {},
     "output_type": "display_data"
    }
   ],
   "source": [
    "fig, ax = plt.subplots(1,1,figsize=(15, 5))\n",
    "data.plot.bar(x=\"hh\", y=\"counts\", ax=ax)\n",
    "plt.show()"
   ]
  },
  {
   "cell_type": "code",
   "execution_count": 12,
   "metadata": {},
   "outputs": [],
   "source": [
    "data = df\\\n",
    "    .select(hour(col(\"d_date\")).alias(\"hh\"))\\\n",
    "    .groupBy(\"hh\")\\\n",
    "    .agg(count(\"hh\").alias(\"counts\"))\\\n",
    "    .orderBy(\"hh\")\\\n",
    "    .toPandas()"
   ]
  },
  {
   "cell_type": "code",
   "execution_count": 13,
   "metadata": {},
   "outputs": [
    {
     "data": {
      "image/png": "[encoded data removed]",
      "text/plain": [
       "<Figure size 1500x500 with 1 Axes>"
      ]
     },
     "metadata": {},
     "output_type": "display_data"
    }
   ],
   "source": [
    "fig, ax = plt.subplots(1,1,figsize=(15, 5))\n",
    "data.plot.bar(x=\"hh\", y=\"counts\", ax=ax, rot=0)\n",
    "plt.show()"
   ]
  },
  {
   "cell_type": "markdown",
   "metadata": {},
   "source": [
    "### Define UDF to calculate geodesic haversine distance between 2 points.\n",
    "\n",
    "Review [pyspark.sql.functions.pandas_udf](https://spark.apache.org/docs/latest/api/python/reference/api/pyspark.sql.functions.pandas_udf.html)."
   ]
  },
  {
   "cell_type": "code",
   "execution_count": 14,
   "metadata": {},
   "outputs": [],
   "source": [
    "def haversine_(lat1:pd.Series, lon1:pd.Series, lat2:pd.Series, lon2:pd.Series) -> pd.Series:\n",
    "    EARTH_RADIUS_M = 6378137.0  # Meters\n",
    "    lon1, lat1, lon2, lat2 = map(np.radians, [lon1, lat1, lon2, lat2])\n",
    "    dy = np.sin((lat2 - lat1) * 0.5)\n",
    "    dx = np.sin((lon2 - lon1) * 0.5)\n",
    "    a = dy * dy + np.cos(lat1) * np.cos(lat2) * dx * dx\n",
    "    c = 2.0 * np.arcsin(np.sqrt(a))\n",
    "    return EARTH_RADIUS_M * c\n",
    "\n",
    "\n",
    "@pandas_udf(DoubleType())\n",
    "def haversine(lat1:pd.Series, lon1:pd.Series, lat2:pd.Series, lon2:pd.Series) -> pd.Series:\n",
    "    return haversine_(lat1, lon1, lat2, lon2)"
   ]
  },
  {
   "cell_type": "markdown",
   "metadata": {},
   "source": [
    "### Get max duration based on geodesic Manhattan distance of extent assuming 45 mph average"
   ]
  },
  {
   "cell_type": "code",
   "execution_count": 15,
   "metadata": {},
   "outputs": [
    {
     "data": {
      "text/plain": [
       "3976.7596558633086"
      ]
     },
     "execution_count": 15,
     "metadata": {},
     "output_type": "execute_result"
    }
   ],
   "source": [
    "lon1 = pd.Series([xmin,xmax])\n",
    "lat1 = pd.Series([ymin,ymin])\n",
    "\n",
    "lon2 = pd.Series([xmax,xmax])\n",
    "lat2 = pd.Series([ymin,ymax])\n",
    "\n",
    "mps = 20.0 # ~ 45 mph\n",
    "max_duration_in_sec = np.sum(haversine_(lat1,lon1,lat2,lon2)) / mps\n",
    "max_duration_in_sec"
   ]
  },
  {
   "cell_type": "markdown",
   "metadata": {},
   "source": [
    "### Get duration values description (statistics)"
   ]
  },
  {
   "cell_type": "code",
   "execution_count": 16,
   "metadata": {},
   "outputs": [
    {
     "name": "stdout",
     "output_type": "stream",
     "text": [
      "+-------+-----------------+\n",
      "|summary|         duration|\n",
      "+-------+-----------------+\n",
      "|  count|            53161|\n",
      "|   mean|940.9532740166663|\n",
      "| stddev|3121.992421759897|\n",
      "|    min|                1|\n",
      "|    max|            86357|\n",
      "+-------+-----------------+\n",
      "\n"
     ]
    }
   ],
   "source": [
    "duration = df.select(\"duration\")\n",
    "duration.describe().show()"
   ]
  },
  {
   "cell_type": "markdown",
   "metadata": {},
   "source": [
    "### Let's see the distribution of the duration data for further filter.\n",
    "\n",
    "- [RDD.histogram](https://spark.apache.org/docs/latest/api/python/reference/api/pyspark.RDD.histogram.html)\n",
    "- Note that we are converting DF to RDD to use histogram action."
   ]
  },
  {
   "cell_type": "code",
   "execution_count": 17,
   "metadata": {},
   "outputs": [
    {
     "name": "stderr",
     "output_type": "stream",
     "text": [
      "                                                                                \r"
     ]
    }
   ],
   "source": [
    "min_duration_in_sec = 60\n",
    "where = f\"duration between {min_duration_in_sec} and {max_duration_in_sec}\"\n",
    "\n",
    "bins,data = duration\\\n",
    "    .where(where)\\\n",
    "    .rdd\\\n",
    "    .flatMap(lambda _:_)\\\n",
    "    .histogram(250)"
   ]
  },
  {
   "cell_type": "code",
   "execution_count": 18,
   "metadata": {},
   "outputs": [
    {
     "data": {
      "image/png": "[encoded data removed]",
      "text/plain": [
       "<Figure size 1600x600 with 1 Axes>"
      ]
     },
     "metadata": {},
     "output_type": "display_data"
    }
   ],
   "source": [
    "mids = bins[:-1]\n",
    "widths = [abs(l - r) for l, r in zip(bins[:-1], bins[1:])]\n",
    "\n",
    "plt.figure(figsize=(16,6))\n",
    "plt.xlabel(\"Duration in sec\")\n",
    "plt.ylabel(\"Counts\")\n",
    "plt.title(\"Duration Distribution\")\n",
    "plt.xscale('log')  # Uncomment this to see the log.\n",
    "plt.bar(mids, data, width=widths, color='g')\n",
    "plt.show()"
   ]
  },
  {
   "cell_type": "markdown",
   "metadata": {},
   "source": [
    "### Let's put the data together now.\n",
    "\n",
    "- Restrict duration between 1 min to 90 minutes.\n",
    "- Map hour of day to fraction of pi for \"circular\" mapping.\n",
    "- Create label (value to be predicted) as log10 of original value."
   ]
  },
  {
   "cell_type": "code",
   "execution_count": 19,
   "metadata": {},
   "outputs": [],
   "source": [
    "to_pi = math.pi / 23.0\n",
    "\n",
    "df2 = df\\\n",
    "    .where(\"duration between 60 and 5400\")\\\n",
    "    .select(\"p_lon\",\n",
    "            \"p_lat\",\n",
    "            \"d_lon\",\n",
    "            \"d_lat\",\n",
    "            (F.hour(col(\"p_date\"))*to_pi).alias(\"pi\"),\n",
    "            F.log10(col(\"duration\")).alias(\"label\"))\\\n",
    "    .withColumn(\"hh_cos\", F.cos(col(\"pi\")))\\\n",
    "    .withColumn(\"hh_sin\", F.sin(col(\"pi\")))\\\n",
    "    .drop(\"pi\")"
   ]
  },
  {
   "cell_type": "markdown",
   "metadata": {},
   "source": [
    "### Create training vector"
   ]
  },
  {
   "cell_type": "code",
   "execution_count": 20,
   "metadata": {},
   "outputs": [],
   "source": [
    "assembler = VectorAssembler(\n",
    "    inputCols=[\"p_lon\",\"p_lat\",\"d_lon\",\"d_lat\",\"hh_cos\",\"hh_sin\"],\n",
    "    outputCol=\"features\")\n",
    "\n",
    "df3 = assembler.transform(df2)"
   ]
  },
  {
   "cell_type": "code",
   "execution_count": 21,
   "metadata": {},
   "outputs": [
    {
     "name": "stdout",
     "output_type": "stream",
     "text": [
      "root\n",
      " |-- p_lon: double (nullable = true)\n",
      " |-- p_lat: double (nullable = true)\n",
      " |-- d_lon: double (nullable = true)\n",
      " |-- d_lat: double (nullable = true)\n",
      " |-- label: double (nullable = true)\n",
      " |-- hh_cos: double (nullable = true)\n",
      " |-- hh_sin: double (nullable = true)\n",
      " |-- features: vector (nullable = true)\n",
      "\n"
     ]
    }
   ],
   "source": [
    "df3.printSchema()"
   ]
  },
  {
   "cell_type": "markdown",
   "metadata": {},
   "source": [
    "### Split the data into training and validation set.\n",
    "\n",
    "- The model will train on the training data.\n",
    "- The model KPI will be calculated off unseen data (the validation data)."
   ]
  },
  {
   "cell_type": "code",
   "execution_count": 22,
   "metadata": {},
   "outputs": [],
   "source": [
    "train,valid = df3.select(\"features\",\"label\").randomSplit([0.7, 0.3])"
   ]
  },
  {
   "cell_type": "markdown",
   "metadata": {},
   "source": [
    "### Fit Generalized Linear Regression Model\n",
    "\n",
    "- https://spark.apache.org/docs/latest/ml-classification-regression.html#generalized-linear-regression"
   ]
  },
  {
   "cell_type": "code",
   "execution_count": 23,
   "metadata": {},
   "outputs": [],
   "source": [
    "from pyspark.ml.regression import GeneralizedLinearRegression\n",
    "\n",
    "glr = GeneralizedLinearRegression(family=\"gaussian\",\n",
    "                                  link=\"identity\",\n",
    "                                  maxIter=100,\n",
    "                                  regParam=0.3)"
   ]
  },
  {
   "cell_type": "code",
   "execution_count": 24,
   "metadata": {},
   "outputs": [
    {
     "name": "stderr",
     "output_type": "stream",
     "text": [
      "24/11/16 08:29:49 WARN BLAS: Failed to load implementation from: com.intel.mkl.MKLBLAS\n",
      "24/11/16 08:29:49 WARN BLAS: Using the fallback implementation.\n",
      "24/11/16 08:29:49 WARN LAPACK: Failed to load implementation from: com.intel.mkl.MKLLAPACK\n",
      "24/11/16 08:29:49 WARN LAPACK: Using the fallback implementation.\n"
     ]
    }
   ],
   "source": [
    "model = glr.fit(train)"
   ]
  },
  {
   "cell_type": "markdown",
   "metadata": {},
   "source": [
    "### Model summary explanations:\n",
    "\n",
    "- https://www.youtube.com/watch?v=8vHVV_TH570\n",
    "- https://www.youtube.com/watch?v=lJJJ50dMJKM\n",
    "- https://databricks.com/session_na20/model-explanation-and-prediction-exploration-using-spark-ml"
   ]
  },
  {
   "cell_type": "code",
   "execution_count": 25,
   "metadata": {},
   "outputs": [
    {
     "data": {
      "text/plain": [
       "Coefficients:\n",
       "    Feature Estimate Std Error  T Value P Value\n",
       "(Intercept) 202.2033    3.7560  53.8342  0.0000\n",
       "      p_lon   0.8601    0.0305  28.2320  0.0000\n",
       "      p_lat  -0.9452    0.0417 -22.6676  0.0000\n",
       "      d_lon   0.9261    0.0336  27.5799  0.0000\n",
       "      d_lat  -0.7060    0.0367 -19.2273  0.0000\n",
       "     hh_cos  -0.0162    0.0017  -9.5187  0.0000\n",
       "     hh_sin   0.0335    0.0034   9.8904  0.0000\n",
       "\n",
       "(Dispersion parameter for gaussian family taken to be 0.0898)\n",
       "    Null deviance: 3693.7850 on 36834 degrees of freedom\n",
       "Residual deviance: 3306.3492 on 36834 degrees of freedom\n",
       "AIC: 15751.1718"
      ]
     },
     "execution_count": 25,
     "metadata": {},
     "output_type": "execute_result"
    }
   ],
   "source": [
    "model.summary"
   ]
  },
  {
   "cell_type": "markdown",
   "metadata": {},
   "source": [
    "### Let evaluate the model by transforming the validation data."
   ]
  },
  {
   "cell_type": "code",
   "execution_count": 26,
   "metadata": {},
   "outputs": [],
   "source": [
    "pred = model.transform(valid)"
   ]
  },
  {
   "cell_type": "code",
   "execution_count": 27,
   "metadata": {},
   "outputs": [
    {
     "name": "stdout",
     "output_type": "stream",
     "text": [
      "root\n",
      " |-- features: vector (nullable = true)\n",
      " |-- label: double (nullable = true)\n",
      " |-- prediction: double (nullable = false)\n",
      "\n"
     ]
    }
   ],
   "source": [
    "pred.printSchema()"
   ]
  },
  {
   "cell_type": "code",
   "execution_count": 28,
   "metadata": {},
   "outputs": [
    {
     "name": "stdout",
     "output_type": "stream",
     "text": [
      "+------------------+------------------+--------------------+\n",
      "|        prediction|             label|            features|\n",
      "+------------------+------------------+--------------------+\n",
      "|2.8105185862027895|2.8109042806687006|[-74.017669677734...|\n",
      "|2.8986022814532078| 3.256477206241677|[-74.017341613769...|\n",
      "| 2.859987434159649|3.0622058088197126|[-74.017219543457...|\n",
      "|2.8000567455689804| 3.274619619091238|[-74.017211914062...|\n",
      "|2.8103120902669616| 2.767897616018091|[-74.017166137695...|\n",
      "|2.8074125390507163|3.0330214446829107|[-74.017150878906...|\n",
      "| 2.819999832988003| 2.401400540781544|[-74.017097473144...|\n",
      "| 2.819932110467164| 2.519827993775719|[-74.017059326171...|\n",
      "|2.8149825854677886|2.5998830720736876|[-74.016876220703...|\n",
      "|2.7754829771085667|2.8609366207000937|[-74.016853332519...|\n",
      "|2.8085192573587676|  2.75815462196739|[-74.016807556152...|\n",
      "| 2.809201816670452| 3.299942900022767|[-74.016738891601...|\n",
      "|2.8233599865075973| 2.888179493918325|[-74.016708374023...|\n",
      "|  2.78608379699682|2.9537596917332287|[-74.016693115234...|\n",
      "|2.7986974591797775|3.1179338350396413|[-74.0166015625,4...|\n",
      "| 2.816167886134224|3.0696680969115957|[-74.016563415527...|\n",
      "| 2.791944244763954|2.4265112613645754|[-74.016517639160...|\n",
      "| 2.819088198333077|2.5289167002776547|[-74.016502380371...|\n",
      "|  2.80117417480767|3.0784568180532927|[-74.016479492187...|\n",
      "|2.7987542937476064|2.7944880466591697|[-74.016357421875...|\n",
      "+------------------+------------------+--------------------+\n",
      "only showing top 20 rows\n",
      "\n"
     ]
    }
   ],
   "source": [
    "pred.select(\"prediction\",\"label\",\"features\").show()"
   ]
  },
  {
   "cell_type": "code",
   "execution_count": 29,
   "metadata": {},
   "outputs": [
    {
     "data": {
      "text/plain": [
       "'Root Mean Squared Error (RMSE) on validation data = 0.295373'"
      ]
     },
     "execution_count": 29,
     "metadata": {},
     "output_type": "execute_result"
    }
   ],
   "source": [
    "from pyspark.ml.evaluation import RegressionEvaluator\n",
    "\n",
    "evaluator = RegressionEvaluator(labelCol=\"label\", predictionCol=\"prediction\", metricName=\"rmse\")\n",
    "rmse = evaluator.evaluate(pred)\n",
    "\n",
    "f\"Root Mean Squared Error (RMSE) on validation data = {rmse:.6f}\""
   ]
  },
  {
   "cell_type": "code",
   "execution_count": 30,
   "metadata": {},
   "outputs": [
    {
     "data": {
      "text/plain": [
       "0.10614086476788898"
      ]
     },
     "execution_count": 30,
     "metadata": {},
     "output_type": "execute_result"
    }
   ],
   "source": [
    "y_true = pred.select(\"label\").toPandas()\n",
    "y_pred = pred.select(\"prediction\").toPandas()\n",
    "\n",
    "import sklearn.metrics\n",
    "\n",
    "r2 = sklearn.metrics.r2_score(y_true, y_pred)\n",
    "r2"
   ]
  },
  {
   "cell_type": "code",
   "execution_count": null,
   "metadata": {},
   "outputs": [],
   "source": []
  }
 ],
 "metadata": {
  "kernelspec": {
   "display_name": "Python 3 (ipykernel)",
   "language": "python",
   "name": "python3"
  },
  "language_info": {
   "codemirror_mode": {
    "name": "ipython",
    "version": 3
   },
   "file_extension": ".py",
   "mimetype": "text/x-python",
   "name": "python",
   "nbconvert_exporter": "python",
   "pygments_lexer": "ipython3",
   "version": "3.9.7"
  }
 },
 "nbformat": 4,
 "nbformat_minor": 4
}
